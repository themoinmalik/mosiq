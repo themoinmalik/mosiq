{
  "nbformat": 4,
  "nbformat_minor": 0,
  "metadata": {
    "colab": {
      "name": "house_price_pred.ipynb",
      "private_outputs": true,
      "provenance": [],
      "collapsed_sections": [],
      "authorship_tag": "ABX9TyPPbmuodSU8MgmcXhBHyNdq",
      "include_colab_link": true
    },
    "kernelspec": {
      "name": "python3",
      "display_name": "Python 3"
    }
  },
  "cells": [
    {
      "cell_type": "markdown",
      "metadata": {
        "id": "view-in-github",
        "colab_type": "text"
      },
      "source": [
        "<a href=\"https://colab.research.google.com/github/themoinmalik/mosiq/blob/master/house_price_pred.ipynb\" target=\"_parent\"><img src=\"https://colab.research.google.com/assets/colab-badge.svg\" alt=\"Open In Colab\"/></a>"
      ]
    },
    {
      "cell_type": "code",
      "metadata": {
        "id": "Vtc_6YQLPUMR"
      },
      "source": [
        "import pandas as pd\r\n",
        "import numpy as np\r\n",
        "import matplotlib.pyplot as plt\r\n",
        "%matplotlib inline\r\n",
        "import matplotlib\r\n"
      ],
      "execution_count": null,
      "outputs": []
    },
    {
      "cell_type": "code",
      "metadata": {
        "id": "9DB_wCtvQCBv"
      },
      "source": [
        "df = pd.read_csv(\"Bengaluru_House_Data.csv\")"
      ],
      "execution_count": null,
      "outputs": []
    },
    {
      "cell_type": "code",
      "metadata": {
        "id": "4AIUhE_UQKxf"
      },
      "source": [
        "df.head()"
      ],
      "execution_count": null,
      "outputs": []
    },
    {
      "cell_type": "code",
      "metadata": {
        "id": "esojaKgIQMuR"
      },
      "source": [
        "df.shape"
      ],
      "execution_count": null,
      "outputs": []
    },
    {
      "cell_type": "code",
      "metadata": {
        "id": "75BGDk42QrI9"
      },
      "source": [
        "df.columns"
      ],
      "execution_count": null,
      "outputs": []
    },
    {
      "cell_type": "code",
      "metadata": {
        "id": "ElpP9LE_Q0Zi"
      },
      "source": [
        "df[\"area_type\"].unique()"
      ],
      "execution_count": null,
      "outputs": []
    },
    {
      "cell_type": "code",
      "metadata": {
        "id": "Xywq0NCYQ2Io"
      },
      "source": [
        "df['area_type'].value_counts()"
      ],
      "execution_count": null,
      "outputs": []
    },
    {
      "cell_type": "code",
      "metadata": {
        "id": "G7JDmAB9RMqe"
      },
      "source": [
        "## but these data are not usable"
      ],
      "execution_count": null,
      "outputs": []
    },
    {
      "cell_type": "code",
      "metadata": {
        "id": "dhA-v0eERbl_"
      },
      "source": [
        "df1 = df.drop([\"area_type\",'society',\"balcony\",\"availability\"],axis = \"columns\")"
      ],
      "execution_count": null,
      "outputs": []
    },
    {
      "cell_type": "code",
      "metadata": {
        "id": "qAXMtKhTSSkT"
      },
      "source": [
        "df1.shape"
      ],
      "execution_count": null,
      "outputs": []
    },
    {
      "cell_type": "code",
      "metadata": {
        "id": "t8hy8v6JSgZw"
      },
      "source": [
        "df1.isnull().sum()  "
      ],
      "execution_count": null,
      "outputs": []
    },
    {
      "cell_type": "code",
      "metadata": {
        "id": "r0wUOw4DSsSZ"
      },
      "source": [
        "df2 = df1.dropna()"
      ],
      "execution_count": null,
      "outputs": []
    },
    {
      "cell_type": "code",
      "metadata": {
        "id": "XFPRfnbkS4_8"
      },
      "source": [
        "df2.isnull().sum()"
      ],
      "execution_count": null,
      "outputs": []
    },
    {
      "cell_type": "code",
      "metadata": {
        "id": "UyIg0oUxS9Pe"
      },
      "source": [
        "df2.shape"
      ],
      "execution_count": null,
      "outputs": []
    },
    {
      "cell_type": "code",
      "metadata": {
        "id": "BnB0B_PQTEVW"
      },
      "source": [
        "df2[\"bhk\"]  = df2[\"size\"].apply(lambda x: int(x.split(' ')[0]))"
      ],
      "execution_count": null,
      "outputs": []
    },
    {
      "cell_type": "code",
      "metadata": {
        "id": "w7RDQcgeUnMa"
      },
      "source": [
        "df2[\"bhk\"].unique()"
      ],
      "execution_count": null,
      "outputs": []
    },
    {
      "cell_type": "code",
      "metadata": {
        "id": "j8v7xTw_Uq5K"
      },
      "source": [
        "df2.head()"
      ],
      "execution_count": null,
      "outputs": []
    },
    {
      "cell_type": "markdown",
      "metadata": {
        "id": "IIzGSZrscvjk"
      },
      "source": [
        "explore total_sqft\r\n"
      ]
    },
    {
      "cell_type": "code",
      "metadata": {
        "id": "k438f-o-c0oc"
      },
      "source": [
        "def is_float(x):\r\n",
        "  try:\r\n",
        "    float(x)\r\n",
        "  except:\r\n",
        "    return False\r\n",
        "  return True   "
      ],
      "execution_count": null,
      "outputs": []
    },
    {
      "cell_type": "code",
      "metadata": {
        "id": "msZxLgric7Pn"
      },
      "source": [
        "2+3"
      ],
      "execution_count": null,
      "outputs": []
    },
    {
      "cell_type": "code",
      "metadata": {
        "id": "3W9haCDCdJ1I"
      },
      "source": [
        "df2[~df2[\"total_sqft\"].apply(is_float)].head(10)"
      ],
      "execution_count": null,
      "outputs": []
    },
    {
      "cell_type": "markdown",
      "metadata": {
        "id": "3F6fOMYDepUB"
      },
      "source": [
        "Above shows that total_sqft can be a range (e.g. 2100-2850). For such case we can just take average of min and max value in the range. There are other cases such as 34.46Sq. Meter which one can convert to square ft using unit conversion. I am going to just drop such corner cases to keep things simple"
      ]
    },
    {
      "cell_type": "code",
      "metadata": {
        "id": "YrF7O8J_euhr"
      },
      "source": [
        "def convert_sqft_to_num(x):\r\n",
        "  tokens = x.split(\"-\")\r\n",
        "  if len(tokens) ==2:\r\n",
        "    return (float(tokens[0])+float(tokens[1]))/2\r\n",
        "  try:\r\n",
        "    return float(X)\r\n",
        "  except:\r\n",
        "    return None    "
      ],
      "execution_count": null,
      "outputs": []
    },
    {
      "cell_type": "code",
      "metadata": {
        "id": "eCNDD4z2f2lp"
      },
      "source": [
        "df3 = df2.copy()"
      ],
      "execution_count": null,
      "outputs": []
    },
    {
      "cell_type": "code",
      "metadata": {
        "id": "7q3x9Rx9nx8I"
      },
      "source": [
        "df3.total_sqft = df3.total_sqft.apply(convert_sqft_to_num)\r\n",
        "df3 = df3[df3.total_sqft.notnull()]\r\n"
      ],
      "execution_count": null,
      "outputs": []
    },
    {
      "cell_type": "code",
      "metadata": {
        "id": "u8hMVZdWoN2Q"
      },
      "source": [
        "df3.head()"
      ],
      "execution_count": null,
      "outputs": []
    },
    {
      "cell_type": "code",
      "metadata": {
        "id": "COb7Oj8spV8G"
      },
      "source": [
        "df3.loc[30]"
      ],
      "execution_count": null,
      "outputs": []
    },
    {
      "cell_type": "code",
      "metadata": {
        "id": "uMCI0iwMppVt"
      },
      "source": [
        "(2100+2850)/2"
      ],
      "execution_count": null,
      "outputs": []
    },
    {
      "cell_type": "markdown",
      "metadata": {
        "id": "ON7wSM_1p7bf"
      },
      "source": [
        "feature engineering"
      ]
    },
    {
      "cell_type": "code",
      "metadata": {
        "id": "A35F9gdFp2vQ"
      },
      "source": [
        ""
      ],
      "execution_count": null,
      "outputs": []
    }
  ]
}